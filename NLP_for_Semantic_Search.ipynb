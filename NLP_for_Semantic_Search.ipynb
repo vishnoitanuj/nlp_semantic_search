{
  "cells": [
    {
      "cell_type": "markdown",
      "metadata": {
        "id": "view-in-github",
        "colab_type": "text"
      },
      "source": [
        "<a href=\"https://colab.research.google.com/github/vishnoitanuj/nlp_semantic_search/blob/main/NLP_for_Semantic_Search.ipynb\" target=\"_parent\"><img src=\"https://colab.research.google.com/assets/colab-badge.svg\" alt=\"Open In Colab\"/></a>"
      ]
    },
    {
      "cell_type": "markdown",
      "id": "2b1cb4d2",
      "metadata": {
        "id": "2b1cb4d2"
      },
      "source": [
        "## Sentence Tranformers"
      ]
    },
    {
      "cell_type": "code",
      "execution_count": null,
      "id": "5681df72",
      "metadata": {
        "id": "5681df72"
      },
      "outputs": [],
      "source": [
        "!pip install sentence-transformers"
      ]
    },
    {
      "cell_type": "code",
      "execution_count": 2,
      "id": "c196b83e",
      "metadata": {
        "id": "c196b83e"
      },
      "outputs": [],
      "source": [
        "from sentence_transformers import SentenceTransformer as st"
      ]
    },
    {
      "cell_type": "code",
      "execution_count": null,
      "id": "d9cdcc5c",
      "metadata": {
        "scrolled": true,
        "id": "d9cdcc5c"
      },
      "outputs": [],
      "source": [
        "model = st('all-mpnet-base-v2')"
      ]
    },
    {
      "cell_type": "code",
      "execution_count": 4,
      "id": "4ccf6e91",
      "metadata": {
        "id": "4ccf6e91"
      },
      "outputs": [],
      "source": [
        "sentences = [\n",
        "    \"it caught him off guard that space smelled of seared steak\",\n",
        "    \"she could not decide between painting her teeth or brushing her nails\",\n",
        "    \"he thought there'd be sufficient time is he hid his watch\",\n",
        "    \"the bees decided to have a mutiny against their queen\",\n",
        "    \"the sign said there was road work ahead so she decided to speed up\",\n",
        "    \"on a scale of one to ten, what's your favorite flavor of color?\",\n",
        "    \"flying stinging insects rebelled in opposition to the matriarch\"\n",
        "]"
      ]
    },
    {
      "cell_type": "code",
      "execution_count": 5,
      "id": "102397b0",
      "metadata": {
        "id": "102397b0"
      },
      "outputs": [],
      "source": [
        "embeddings = model.encode(sentences)"
      ]
    },
    {
      "cell_type": "code",
      "execution_count": 6,
      "id": "16fae892",
      "metadata": {
        "colab": {
          "base_uri": "https://localhost:8080/"
        },
        "id": "16fae892",
        "outputId": "9677d17c-4a74-4df8-eae9-806cadfcc1fc"
      },
      "outputs": [
        {
          "output_type": "execute_result",
          "data": {
            "text/plain": [
              "(7, 768)"
            ]
          },
          "metadata": {},
          "execution_count": 6
        }
      ],
      "source": [
        "embeddings.shape"
      ]
    },
    {
      "cell_type": "code",
      "execution_count": 11,
      "id": "f05a252b",
      "metadata": {
        "id": "f05a252b"
      },
      "outputs": [],
      "source": [
        "from sentence_transformers.util import cos_sim"
      ]
    },
    {
      "cell_type": "code",
      "execution_count": 8,
      "id": "9b5ef802",
      "metadata": {
        "colab": {
          "base_uri": "https://localhost:8080/"
        },
        "id": "9b5ef802",
        "outputId": "d6ed0d4b-7ce9-48b6-db18-e16a9e8ccd4d"
      },
      "outputs": [
        {
          "output_type": "execute_result",
          "data": {
            "text/plain": [
              "tensor([[ 0.1232,  0.1967,  0.0523,  0.6084,  0.1011, -0.0492]])"
            ]
          },
          "metadata": {},
          "execution_count": 8
        }
      ],
      "source": [
        "scores = cos_sim(embeddings[-1], embeddings[:-1])\n",
        "scores"
      ]
    },
    {
      "cell_type": "code",
      "execution_count": 9,
      "id": "807f862d",
      "metadata": {
        "colab": {
          "base_uri": "https://localhost:8080/",
          "height": 35
        },
        "id": "807f862d",
        "outputId": "9538cb3f-1eed-46ab-94cc-939a820a545c"
      },
      "outputs": [
        {
          "output_type": "execute_result",
          "data": {
            "text/plain": [
              "'the bees decided to have a mutiny against their queen'"
            ],
            "application/vnd.google.colaboratory.intrinsic+json": {
              "type": "string"
            }
          },
          "metadata": {},
          "execution_count": 9
        }
      ],
      "source": [
        "sentences[scores.argmax().item()]"
      ]
    },
    {
      "cell_type": "markdown",
      "id": "106f5403",
      "metadata": {
        "id": "106f5403"
      },
      "source": [
        "## Question Answering using DPR (facebook ai - Dense Passage Retreiver)"
      ]
    },
    {
      "cell_type": "code",
      "execution_count": null,
      "id": "72a2fee3",
      "metadata": {
        "id": "72a2fee3"
      },
      "outputs": [],
      "source": [
        "!pip install transformers"
      ]
    },
    {
      "cell_type": "code",
      "execution_count": 3,
      "id": "dad6c153",
      "metadata": {
        "id": "dad6c153"
      },
      "outputs": [],
      "source": [
        "from transformers import DPRContextEncoderTokenizer, DPRContextEncoder, \\\n",
        "    DPRQuestionEncoderTokenizer, DPRQuestionEncoder"
      ]
    },
    {
      "cell_type": "code",
      "execution_count": 4,
      "id": "7a38e577",
      "metadata": {
        "colab": {
          "base_uri": "https://localhost:8080/"
        },
        "id": "7a38e577",
        "outputId": "ce75827c-32a9-4496-cef6-d50728323ec5"
      },
      "outputs": [
        {
          "output_type": "stream",
          "name": "stderr",
          "text": [
            "The tokenizer class you load from this checkpoint is not the same type as the class this function is called from. It may result in unexpected tokenization. \n",
            "The tokenizer class you load from this checkpoint is 'DPRQuestionEncoderTokenizer'. \n",
            "The class this function is called from is 'DPRContextEncoderTokenizer'.\n"
          ]
        }
      ],
      "source": [
        "ctx_model = DPRContextEncoder.from_pretrained('facebook/dpr-ctx_encoder-single-nq-base')\n",
        "ctx_tokenizer = DPRContextEncoderTokenizer.from_pretrained('facebook/dpr-ctx_encoder-single-nq-base')\n",
        "\n",
        "question_model = DPRQuestionEncoder.from_pretrained('facebook/dpr-question_encoder-single-nq-base')\n",
        "question_tokenizer = DPRQuestionEncoderTokenizer.from_pretrained('facebook/dpr-question_encoder-single-nq-base')"
      ]
    },
    {
      "cell_type": "code",
      "execution_count": 5,
      "id": "d31f896e",
      "metadata": {
        "id": "d31f896e"
      },
      "outputs": [],
      "source": [
        "questions = [\n",
        "    \"what is the capital city of australia?\",\n",
        "    \"what is the best selling sci-fi book?\",\n",
        "    \"how many searches are performed on Google?\"\n",
        "]\n",
        "\n",
        "contexts = [\n",
        "    \"canberra is the capital city of australia\",\n",
        "    \"what is the capital city of australia?\",\n",
        "    \"the capital city of france is paris\",\n",
        "    \"what is the best selling sci-fi book?\",\n",
        "    \"sc-fi is a popular book genre read by millions\",\n",
        "    \"the best-selling sci-fi book is dune\",\n",
        "    \"how many searches are performed on Google?\",\n",
        "    \"Google serves more than 2 trillion queries annually\",\n",
        "    \"Google is a popular search engine\"\n",
        "]"
      ]
    },
    {
      "cell_type": "code",
      "source": [
        "xb_tokens = ctx_tokenizer(contexts, max_length=256, padding='max_length', truncation=True, return_tensors='pt')   # pt is return as pytorch tensor\n",
        "xb = ctx_model(**xb_tokens)\n",
        "\n",
        "xq_tokens = question_tokenizer(questions, max_length=256, padding='max_length', truncation=True, return_tensors='pt')   # pt is return as pytorch tensor\n",
        "xq = question_model(**xq_tokens)"
      ],
      "metadata": {
        "id": "7MNsJ0zQBVfy"
      },
      "id": "7MNsJ0zQBVfy",
      "execution_count": 6,
      "outputs": []
    },
    {
      "cell_type": "code",
      "source": [
        "xb.keys()"
      ],
      "metadata": {
        "colab": {
          "base_uri": "https://localhost:8080/"
        },
        "id": "zVTEU_YIB-Sy",
        "outputId": "144170c4-be50-41ff-8396-eb9b743c1a3d"
      },
      "id": "zVTEU_YIB-Sy",
      "execution_count": 7,
      "outputs": [
        {
          "output_type": "execute_result",
          "data": {
            "text/plain": [
              "odict_keys(['pooler_output'])"
            ]
          },
          "metadata": {},
          "execution_count": 7
        }
      ]
    },
    {
      "cell_type": "code",
      "source": [
        "xb.pooler_output.shape, xq.pooler_output.shape"
      ],
      "metadata": {
        "colab": {
          "base_uri": "https://localhost:8080/"
        },
        "id": "ZUeYMmVuCECd",
        "outputId": "e02be977-c94b-4f07-d62c-98429dceeb06"
      },
      "id": "ZUeYMmVuCECd",
      "execution_count": 8,
      "outputs": [
        {
          "output_type": "execute_result",
          "data": {
            "text/plain": [
              "(torch.Size([9, 768]), torch.Size([3, 768]))"
            ]
          },
          "metadata": {},
          "execution_count": 8
        }
      ]
    },
    {
      "cell_type": "code",
      "source": [
        "!pip install torch"
      ],
      "metadata": {
        "id": "XCe3tbrYCI21"
      },
      "id": "XCe3tbrYCI21",
      "execution_count": null,
      "outputs": []
    },
    {
      "cell_type": "code",
      "source": [
        "import torch\n",
        "\n",
        "for i,xq_vec in enumerate(xq.pooler_output):\n",
        "  probs = cos_sim(xq_vec, xb.pooler_output)\n",
        "  argmax = torch.argmax(probs)\n",
        "  print(questions[i])\n",
        "  print(contexts[argmax])\n",
        "  print(\"-----\")"
      ],
      "metadata": {
        "colab": {
          "base_uri": "https://localhost:8080/"
        },
        "id": "v40-bIEIC4Eg",
        "outputId": "1df6095b-f5fc-4c46-c0e4-c07784898893"
      },
      "id": "v40-bIEIC4Eg",
      "execution_count": 13,
      "outputs": [
        {
          "output_type": "stream",
          "name": "stdout",
          "text": [
            "what is the capital city of australia?\n",
            "canberra is the capital city of australia\n",
            "-----\n",
            "what is the best selling sci-fi book?\n",
            "the best-selling sci-fi book is dune\n",
            "-----\n",
            "how many searches are performed on Google?\n",
            "how many searches are performed on Google?\n",
            "-----\n"
          ]
        }
      ]
    },
    {
      "cell_type": "code",
      "source": [],
      "metadata": {
        "id": "CHw4cyyLDZqy"
      },
      "id": "CHw4cyyLDZqy",
      "execution_count": null,
      "outputs": []
    }
  ],
  "metadata": {
    "kernelspec": {
      "display_name": "Python 3 (ipykernel)",
      "language": "python",
      "name": "python3"
    },
    "language_info": {
      "codemirror_mode": {
        "name": "ipython",
        "version": 3
      },
      "file_extension": ".py",
      "mimetype": "text/x-python",
      "name": "python",
      "nbconvert_exporter": "python",
      "pygments_lexer": "ipython3",
      "version": "3.10.0"
    },
    "colab": {
      "provenance": [],
      "include_colab_link": true
    },
    "accelerator": "GPU",
    "gpuClass": "standard"
  },
  "nbformat": 4,
  "nbformat_minor": 5
}